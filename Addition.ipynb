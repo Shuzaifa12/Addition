{
  "nbformat": 4,
  "nbformat_minor": 0,
  "metadata": {
    "colab": {
      "provenance": [],
      "authorship_tag": "ABX9TyNFlwuK7qcvp3bgP9NdanSj",
      "include_colab_link": true
    },
    "kernelspec": {
      "name": "python3",
      "display_name": "Python 3"
    },
    "language_info": {
      "name": "python"
    }
  },
  "cells": [
    {
      "cell_type": "markdown",
      "metadata": {
        "id": "view-in-github",
        "colab_type": "text"
      },
      "source": [
        "<a href=\"https://colab.research.google.com/github/Shuzaifa12/Addition/blob/main/Addition.ipynb\" target=\"_parent\"><img src=\"https://colab.research.google.com/assets/colab-badge.svg\" alt=\"Open In Colab\"/></a>"
      ]
    },
    {
      "cell_type": "code",
      "execution_count": 5,
      "metadata": {
        "colab": {
          "base_uri": "https://localhost:8080/"
        },
        "id": "Y2UVHqhhBVKk",
        "outputId": "820462db-bbc9-4a40-f468-0b7d66f0b807"
      },
      "outputs": [
        {
          "output_type": "stream",
          "name": "stdout",
          "text": [
            "Enter the value of num 1 : 21\n",
            "Enter the value of num 2 : 12\n",
            "The sum of 21 and 12 is = 33\n"
          ]
        }
      ],
      "source": [
        "def main():\n",
        "  num1 : int= int(input(\"Enter the value of num 1 : \"))\n",
        "  num2 :int = int(input(\"Enter the value of num 2 : \"))\n",
        "  sum = num1 + num2\n",
        "  print(f\"The sum of {num1} and {num2} is = {sum}\")\n",
        "\n",
        "if __name__ == '__main__':\n",
        "  main()"
      ]
    }
  ]
}